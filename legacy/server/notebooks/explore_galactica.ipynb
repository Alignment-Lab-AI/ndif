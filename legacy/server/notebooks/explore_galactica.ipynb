{
 "cells": [
  {
   "cell_type": "code",
   "execution_count": 1,
   "metadata": {},
   "outputs": [],
   "source": [
    "%load_ext autoreload\n",
    "%autoreload 2"
   ]
  },
  {
   "cell_type": "code",
   "execution_count": 2,
   "metadata": {},
   "outputs": [],
   "source": [
    "import torch\n",
    "import numpy as np\n",
    "import json\n",
    "from tqdm.auto import tqdm\n",
    "import random\n",
    "import transformers\n",
    "\n",
    "import os\n",
    "import sys\n",
    "sys.path.append('..')\n",
    "\n",
    "from utils import model_utils\n",
    "from baukit import nethook\n",
    "from operator import itemgetter"
   ]
  },
  {
   "cell_type": "code",
   "execution_count": 3,
   "metadata": {},
   "outputs": [
    {
     "name": "stdout",
     "output_type": "stream",
     "text": [
      "facebook/galactica-6.7b ==> device: cuda:0, memory: 13314719744\n"
     ]
    }
   ],
   "source": [
    "MODEL_NAME = \"facebook/galactica-6.7b\"  # gpt2-{medium,large,xl} or EleutherAI/gpt-j-6B\n",
    "mt = model_utils.ModelAndTokenizer(MODEL_NAME, low_cpu_mem_usage=True, torch_dtype=torch.float16)\n",
    "\n",
    "model = mt.model\n",
    "tokenizer = mt.tokenizer\n",
    "tokenizer.add_special_tokens({'pad_token': '[PAD]'})\n",
    "\n",
    "print(f\"{MODEL_NAME} ==> device: {model.device}, memory: {model.get_memory_footprint()}\")"
   ]
  },
  {
   "cell_type": "code",
   "execution_count": 4,
   "metadata": {},
   "outputs": [
    {
     "data": {
      "text/plain": [
       "PreTrainedTokenizerFast(name_or_path='facebook/galactica-6.7b', vocab_size=50000, model_max_len=1000000000000000019884624838656, is_fast=True, padding_side='right', truncation_side='right', special_tokens={'pad_token': '[PAD]'})"
      ]
     },
     "execution_count": 4,
     "metadata": {},
     "output_type": "execute_result"
    }
   ],
   "source": [
    "tokenizer"
   ]
  },
  {
   "cell_type": "code",
   "execution_count": 5,
   "metadata": {},
   "outputs": [],
   "source": [
    "# path = \"weights/galactica-6.7b\"\n",
    "# model.config.save_pretrained(path)\n",
    "# torch.save(model.state_dict(), f\"{path}/pytorch_model.bin\")"
   ]
  },
  {
   "cell_type": "code",
   "execution_count": 6,
   "metadata": {},
   "outputs": [
    {
     "name": "stdout",
     "output_type": "stream",
     "text": [
      "Facebook is a social networking site that allows users to create profiles, connect with other users, and share information. Facebook has been used by millions of people around the world\n"
     ]
    }
   ],
   "source": [
    "input_text = \"Facebook is a\",\n",
    "tokenized = tokenizer(input_text, return_tensors=\"pt\")\n",
    "\n",
    "outputs = model.generate(tokenized.input_ids.to(model.device), max_new_tokens=30, top_k = 1)\n",
    "print(tokenizer.decode(outputs[0]))"
   ]
  },
  {
   "cell_type": "code",
   "execution_count": 7,
   "metadata": {},
   "outputs": [],
   "source": [
    "# model(\n",
    "#     input_ids = tokenized.input_ids.to(model.device),\n",
    "#     attention_mask = tokenized.attention_mask.to(model.device)\n",
    "# )"
   ]
  },
  {
   "cell_type": "code",
   "execution_count": 8,
   "metadata": {},
   "outputs": [],
   "source": [
    "input_text = [\n",
    "    \"The Transformer architecture [START_REF]\",\n",
    "    \"Facebook is a\"\n",
    "]\n",
    "tokenized = tokenizer(input_text, padding=True, return_tensors=\"pt\").to(model.device)"
   ]
  },
  {
   "cell_type": "code",
   "execution_count": 9,
   "metadata": {},
   "outputs": [
    {
     "data": {
      "text/plain": [
       "['The Transformer architecture [START_REF] Attention is All you Need, Vaswani[END_REF] is a sequence-to-sequence model that uses self-attention to capture long-range dependencies between input',\n",
       " 'Facebook is a social networking site that allows users to create profiles, connect with other users, and share information. Facebook has been used by millions of people around the world.']"
      ]
     },
     "execution_count": 9,
     "metadata": {},
     "output_type": "execute_result"
    }
   ],
   "source": [
    "txt, ret_dict = model_utils.generate_fast(\n",
    "    model = model, tok = tokenizer,\n",
    "    prompts = input_text,\n",
    "    argmax_greedy= True,\n",
    "    # debug=True,\n",
    "    max_new_tokens=30,\n",
    "    top_k = 5\n",
    ")\n",
    "\n",
    "txt"
   ]
  },
  {
   "cell_type": "code",
   "execution_count": 23,
   "metadata": {},
   "outputs": [
    {
     "data": {
      "text/plain": [
       "['apple is spelled A-P-P-L-E, school is spelled S-C-H-O-O-L, terminator is spelled T-E-R-M-O-N-I-T-E-R,']"
      ]
     },
     "execution_count": 23,
     "metadata": {},
     "output_type": "execute_result"
    }
   ],
   "source": [
    "# prompt = \"apple starts with A, blueberry starts with B, yonatan starts with\"\n",
    "# # prompt = \"apple ends with E, blueberry ends with Y, computer ends with <work>\"\n",
    "# # prompt = \"Car 1 speed is 30km/h and Car 2 speed is 50km/h. Which car travels faster and how much? <work>\"\n",
    "# prompt = \"123 comes before 124, 4322 comes before 4323, 324 comes before\"\n",
    "prompt = \"apple is spelled A-P-P-L-E, school is spelled S-C-H-O-O-L, terminator is spelled\"\n",
    "\n",
    "txt, ret_dict = model_utils.generate_fast(\n",
    "    model = model, tok = tokenizer,\n",
    "    prompts = [prompt],\n",
    "    argmax_greedy= True,\n",
    "    # debug=True,\n",
    "    max_new_tokens = 20,\n",
    "    top_k = 5\n",
    ")\n",
    "\n",
    "txt\n"
   ]
  },
  {
   "cell_type": "code",
   "execution_count": null,
   "metadata": {},
   "outputs": [],
   "source": []
  }
 ],
 "metadata": {
  "kernelspec": {
   "display_name": "Python 3",
   "language": "python",
   "name": "python3"
  },
  "language_info": {
   "codemirror_mode": {
    "name": "ipython",
    "version": 3
   },
   "file_extension": ".py",
   "mimetype": "text/x-python",
   "name": "python",
   "nbconvert_exporter": "python",
   "pygments_lexer": "ipython3",
   "version": "3.10.8"
  },
  "orig_nbformat": 4,
  "vscode": {
   "interpreter": {
    "hash": "3439fe3f7dcaddaf51997811d25ada8e7c0985d2997d22a3ed461af94d2f9f43"
   }
  }
 },
 "nbformat": 4,
 "nbformat_minor": 2
}
