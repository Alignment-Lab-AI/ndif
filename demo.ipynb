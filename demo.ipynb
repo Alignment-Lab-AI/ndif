{
 "cells": [
  {
   "cell_type": "code",
   "execution_count": 91,
   "metadata": {},
   "outputs": [
    {
     "name": "stdout",
     "output_type": "stream",
     "text": [
      "The autoreload extension is already loaded. To reload it, use:\n",
      "  %reload_ext autoreload\n"
     ]
    }
   ],
   "source": [
    "%load_ext autoreload\n",
    "%autoreload 2"
   ]
  },
  {
   "cell_type": "code",
   "execution_count": 92,
   "metadata": {},
   "outputs": [],
   "source": [
    "import client.engine as engine"
   ]
  },
  {
   "cell_type": "code",
   "execution_count": 93,
   "metadata": {},
   "outputs": [
    {
     "data": {
      "text/plain": [
       "{'attn_module_name_format': 'model.layers.{}.self_attn',\n",
       " 'layer_name_format': 'model.layers.{}',\n",
       " 'max_seq_length': 2048,\n",
       " 'mlp_module_name_format': 'model.layers.{}.mlp',\n",
       " 'model_name': 'LLaMa-30b',\n",
       " 'n_attn_head': 52,\n",
       " 'n_embd': 6656,\n",
       " 'n_layer': 60}"
      ]
     },
     "execution_count": 93,
     "metadata": {},
     "output_type": "execute_result"
    }
   ],
   "source": [
    "intro = engine.get_info()\n",
    "intro"
   ]
  },
  {
   "cell_type": "code",
   "execution_count": 94,
   "metadata": {},
   "outputs": [
    {
     "data": {
      "text/plain": [
       "'model.layers.{}'"
      ]
     },
     "execution_count": 94,
     "metadata": {},
     "output_type": "execute_result"
    }
   ],
   "source": [
    "intro[\"layer_name_format\"]"
   ]
  },
  {
   "cell_type": "code",
   "execution_count": 95,
   "metadata": {},
   "outputs": [],
   "source": [
    "# ? engine.submit"
   ]
  },
  {
   "cell_type": "code",
   "execution_count": 96,
   "metadata": {},
   "outputs": [
    {
     "name": "stdout",
     "output_type": "stream",
     "text": [
      "INFO: 2023-04-11 17:14:48,921 - => Submitting request...\n",
      "INFO: 2023-04-11 17:14:48,928 - => Successfully submitted job '7vYS4AE3vyBpzSxqmHBSpX'\n",
      "INFO: 2023-04-11 17:14:48,929 - => Dumped request for job '7vYS4AE3vyBpzSxqmHBSpX' to /disk/u/arnab/Projects/engine/jobs/7vYS4AE3vyBpzSxqmHBSpX\n",
      "7vYS4AE3vyBpzSxqmHBSpX\n"
     ]
    }
   ],
   "source": [
    "job_id = engine.submit(\n",
    "    prompt = [\n",
    "        \"Michael Jordan plays the sport of\",\n",
    "        \"The Space Needle is located in the city of\"\n",
    "    ],\n",
    "    max_new_tokens= 10,\n",
    "    get_answers= True,\n",
    "    top_k = 5,\n",
    "    layers= [intro[\"layer_name_format\"].format(l) for l in range(5, 10)]\n",
    ")\n",
    "print(job_id)"
   ]
  },
  {
   "cell_type": "code",
   "execution_count": 97,
   "metadata": {},
   "outputs": [],
   "source": [
    "# ? engine.retrieve"
   ]
  },
  {
   "cell_type": "code",
   "execution_count": 98,
   "metadata": {},
   "outputs": [
    {
     "name": "stdout",
     "output_type": "stream",
     "text": [
      "INFO: 2023-04-11 17:15:06,290 - => Retrieving job '7vYS4AE3vyBpzSxqmHBSpX'...\n",
      "INFO: 2023-04-11 17:15:07,875 - => Retrieved job '7vYS4AE3vyBpzSxqmHBSpX'\n",
      "INFO: 2023-04-11 17:15:09,956 - => Dumped response for job '7vYS4AE3vyBpzSxqmHBSpX' to /disk/u/arnab/Projects/engine/jobs/7vYS4AE3vyBpzSxqmHBSpX\n"
     ]
    }
   ],
   "source": [
    "result = engine.retrieve(job_id)"
   ]
  },
  {
   "cell_type": "code",
   "execution_count": 99,
   "metadata": {},
   "outputs": [
    {
     "data": {
      "text/plain": [
       "'Your job has been completed'"
      ]
     },
     "execution_count": 99,
     "metadata": {},
     "output_type": "execute_result"
    }
   ],
   "source": [
    "result[\"description\"]"
   ]
  },
  {
   "cell_type": "code",
   "execution_count": 100,
   "metadata": {},
   "outputs": [
    {
     "data": {
      "text/plain": [
       "dict_keys(['job_id', 'status', 'timestamp', 'description', 'data'])"
      ]
     },
     "execution_count": 100,
     "metadata": {},
     "output_type": "execute_result"
    }
   ],
   "source": [
    "result.keys()"
   ]
  },
  {
   "cell_type": "code",
   "execution_count": 101,
   "metadata": {},
   "outputs": [
    {
     "data": {
      "text/plain": [
       "dict_keys(['generated_text', 'answer', 'input_tokenized', 'generated_tokens', 'activations'])"
      ]
     },
     "execution_count": 101,
     "metadata": {},
     "output_type": "execute_result"
    }
   ],
   "source": [
    "result['data'][0].keys()"
   ]
  },
  {
   "cell_type": "code",
   "execution_count": 102,
   "metadata": {},
   "outputs": [
    {
     "data": {
      "text/plain": [
       "dict_keys(['model.layers.5', 'model.layers.6', 'model.layers.7', 'model.layers.8', 'model.layers.9'])"
      ]
     },
     "execution_count": 102,
     "metadata": {},
     "output_type": "execute_result"
    }
   ],
   "source": [
    "result['data'][0]['activations'].keys()"
   ]
  },
  {
   "cell_type": "code",
   "execution_count": 103,
   "metadata": {},
   "outputs": [],
   "source": [
    "import torch\n",
    "import json\n",
    "import copy"
   ]
  },
  {
   "cell_type": "code",
   "execution_count": 105,
   "metadata": {},
   "outputs": [
    {
     "data": {
      "text/plain": [
       "torch.Size([1, 7, 6656])"
      ]
     },
     "execution_count": 105,
     "metadata": {},
     "output_type": "execute_result"
    }
   ],
   "source": [
    "torch.tensor(result['data'][0]['activations']['model.layers.7']).shape"
   ]
  },
  {
   "cell_type": "code",
   "execution_count": 106,
   "metadata": {},
   "outputs": [
    {
     "name": "stdout",
     "output_type": "stream",
     "text": [
      "txt =  [' Michael Jordan plays the sport of basketball. Michael Jordan is a basketball player.']\n",
      "input_tokenized =  [[' <s>', 1], [' Michael', 5765], [' Jordan', 18284], [' plays', 13582], [' the', 278], [' sport', 7980], [' of', 310]]\n",
      "answer =  [{'top_token': ' basketball', 'candidates': [{'token': ' basketball', 'token_id': 20305, 'p': 0.4729}, {'token': ' golf', 'token_id': 29416, 'p': 0.1355}, {'token': ' baseball', 'token_id': 21573, 'p': 0.0616}, {'token': ' k', 'token_id': 413, 'p': 0.0475}, {'token': ' tennis', 'token_id': 22556, 'p': 0.0258}]}]\n",
      "generated_tokens =  [[[{'token': ' basketball', 'id': 20305, 'p': 0.472900390625}, {'token': ' golf', 'id': 29416, 'p': 0.135498046875}, {'token': ' baseball', 'id': 21573, 'p': 0.061553955078125}, {'token': ' k', 'id': 413, 'p': 0.04754638671875}, {'token': ' tennis', 'id': 22556, 'p': 0.025848388671875}], [{'token': ' .', 'id': 29889, 'p': 0.1436767578125}, {'token': ' like', 'id': 763, 'p': 0.0987548828125}, {'token': ' with', 'id': 411, 'p': 0.094970703125}, {'token': ' in', 'id': 297, 'p': 0.08648681640625}, {'token': ' ,', 'id': 29892, 'p': 0.063720703125}], [{'token': ' <0x0A>', 'id': 13, 'p': 0.304443359375}, {'token': ' He', 'id': 940, 'p': 0.22802734375}, {'token': ' Michael', 'id': 5765, 'p': 0.052490234375}, {'token': ' His', 'id': 3600, 'p': 0.02423095703125}, {'token': ' The', 'id': 450, 'p': 0.0227508544921875}], [{'token': ' Michael', 'id': 24083, 'p': 0.162109375}, {'token': ' The', 'id': 1576, 'p': 0.06451416015625}, {'token': ' B', 'id': 29933, 'p': 0.06298828125}, {'token': ' He', 'id': 3868, 'p': 0.040679931640625}, {'token': ' A', 'id': 29909, 'p': 0.0302276611328125}], [{'token': ' Jordan', 'id': 18284, 'p': 0.86474609375}, {'token': ' Jeff', 'id': 12208, 'p': 0.054412841796875}, {'token': ' is', 'id': 338, 'p': 0.01453399658203125}, {'token': ' played', 'id': 5318, 'p': 0.005870819091796875}, {'token': ' was', 'id': 471, 'p': 0.0050201416015625}], [{'token': ' is', 'id': 338, 'p': 0.3193359375}, {'token': ' plays', 'id': 13582, 'p': 0.1805419921875}, {'token': ' was', 'id': 471, 'p': 0.1290283203125}, {'token': ' has', 'id': 756, 'p': 0.03875732421875}, {'token': ' (', 'id': 313, 'p': 0.0297088623046875}], [{'token': ' a', 'id': 263, 'p': 0.401611328125}, {'token': ' an', 'id': 385, 'p': 0.17138671875}, {'token': ' the', 'id': 278, 'p': 0.10809326171875}, {'token': ' one', 'id': 697, 'p': 0.0506591796875}, {'token': ' ', 'id': 29871, 'p': 0.0189361572265625}], [{'token': ' basketball', 'id': 20305, 'p': 0.1885986328125}, {'token': ' professional', 'id': 10257, 'p': 0.11712646484375}, {'token': ' famous', 'id': 13834, 'p': 0.10662841796875}, {'token': ' retired', 'id': 16528, 'p': 0.06365966796875}, {'token': ' former', 'id': 4642, 'p': 0.03228759765625}], [{'token': ' player', 'id': 4847, 'p': 0.87646484375}, {'token': ' legend', 'id': 15983, 'p': 0.02667236328125}, {'token': ' star', 'id': 5810, 'p': 0.0201263427734375}, {'token': ' super', 'id': 2428, 'p': 0.0173492431640625}, {'token': ' er', 'id': 261, 'p': 0.006793975830078125}], [{'token': ' .', 'id': 29889, 'p': 0.59814453125}, {'token': ' who', 'id': 1058, 'p': 0.1263427734375}, {'token': ' for', 'id': 363, 'p': 0.06402587890625}, {'token': ' ,', 'id': 29892, 'p': 0.036773681640625}, {'token': ' from', 'id': 515, 'p': 0.032958984375}]]]\n",
      "activations\n",
      "     model.layers.5 : torch.Size([1, 7, 6656])\n",
      "     model.layers.6 : torch.Size([1, 7, 6656])\n",
      "     model.layers.7 : torch.Size([1, 7, 6656])\n",
      "     model.layers.8 : torch.Size([1, 7, 6656])\n",
      "     model.layers.9 : torch.Size([1, 7, 6656])\n",
      "\n",
      "txt =  [' The Space Needle is located in the city of Seattle, Washington. It is a tower that was']\n",
      "input_tokenized =  [[' <s>', 1], [' The', 450], [' Space', 14121], [' Need', 20768], [' le', 280], [' is', 338], [' located', 5982], [' in', 297], [' the', 278], [' city', 4272], [' of', 310]]\n",
      "answer =  [{'top_token': ' Seattle', 'candidates': [{'token': ' Seattle', 'token_id': 27689, 'p': 0.978}, {'token': ' Se', 'token_id': 922, 'p': 0.0034}, {'token': ' the', 'token_id': 278, 'p': 0.0034}, {'token': ' se', 'token_id': 409, 'p': 0.0022}, {'token': ' Sea', 'token_id': 14070, 'p': 0.0005}]}]\n",
      "generated_tokens =  [[[{'token': ' Seattle', 'id': 27689, 'p': 0.97802734375}, {'token': ' Se', 'id': 922, 'p': 0.0033664703369140625}, {'token': ' the', 'id': 278, 'p': 0.0033664703369140625}, {'token': ' se', 'id': 409, 'p': 0.0021915435791015625}, {'token': ' Sea', 'id': 14070, 'p': 0.0004775524139404297}], [{'token': ' ,', 'id': 29892, 'p': 0.52392578125}, {'token': ' in', 'id': 297, 'p': 0.232421875}, {'token': ' .', 'id': 29889, 'p': 0.11151123046875}, {'token': ' and', 'id': 322, 'p': 0.067626953125}, {'token': ' (', 'id': 313, 'p': 0.00801849365234375}], [{'token': ' Washington', 'id': 7660, 'p': 0.6533203125}, {'token': ' in', 'id': 297, 'p': 0.1236572265625}, {'token': ' the', 'id': 278, 'p': 0.032257080078125}, {'token': ' W', 'id': 399, 'p': 0.025726318359375}, {'token': ' which', 'id': 607, 'p': 0.0228729248046875}], [{'token': ' .', 'id': 29889, 'p': 0.43359375}, {'token': ' ,', 'id': 29892, 'p': 0.317138671875}, {'token': ' and', 'id': 322, 'p': 0.09375}, {'token': ' in', 'id': 297, 'p': 0.0670166015625}, {'token': ' State', 'id': 4306, 'p': 0.021087646484375}], [{'token': ' It', 'id': 739, 'p': 0.355712890625}, {'token': ' The', 'id': 450, 'p': 0.2225341796875}, {'token': ' <0x0A>', 'id': 13, 'p': 0.08123779296875}, {'token': ' This', 'id': 910, 'p': 0.0594482421875}, {'token': ' Seattle', 'id': 27689, 'p': 0.016632080078125}], [{'token': ' is', 'id': 338, 'p': 0.51806640625}, {'token': ' was', 'id': 471, 'p': 0.34521484375}, {'token': ' has', 'id': 756, 'p': 0.0290069580078125}, {'token': ' ’', 'id': 30010, 'p': 0.02294921875}, {'token': ' stands', 'id': 15028, 'p': 0.0213775634765625}], [{'token': ' a', 'id': 263, 'p': 0.344482421875}, {'token': ' one', 'id': 697, 'p': 0.1348876953125}, {'token': ' an', 'id': 385, 'p': 0.11907958984375}, {'token': ' the', 'id': 278, 'p': 0.06732177734375}, {'token': ' ', 'id': 29871, 'p': 0.061767578125}], [{'token': ' tower', 'id': 19372, 'p': 0.353759765625}, {'token': ' major', 'id': 4655, 'p': 0.07708740234375}, {'token': ' land', 'id': 2982, 'p': 0.06439208984375}, {'token': ' ', 'id': 29871, 'p': 0.06146240234375}, {'token': ' fut', 'id': 3105, 'p': 0.0369873046875}], [{'token': ' that', 'id': 393, 'p': 0.482177734375}, {'token': ' built', 'id': 4240, 'p': 0.06890869140625}, {'token': ' and', 'id': 322, 'p': 0.0504150390625}, {'token': ' ing', 'id': 292, 'p': 0.04888916015625}, {'token': ' with', 'id': 411, 'p': 0.045196533203125}], [{'token': ' was', 'id': 471, 'p': 0.437744140625}, {'token': ' is', 'id': 338, 'p': 0.22705078125}, {'token': ' stands', 'id': 15028, 'p': 0.1466064453125}, {'token': ' has', 'id': 756, 'p': 0.056976318359375}, {'token': ' looks', 'id': 3430, 'p': 0.01053619384765625}]]]\n",
      "activations\n",
      "     model.layers.5 : torch.Size([1, 11, 6656])\n",
      "     model.layers.6 : torch.Size([1, 11, 6656])\n",
      "     model.layers.7 : torch.Size([1, 11, 6656])\n",
      "     model.layers.8 : torch.Size([1, 11, 6656])\n",
      "     model.layers.9 : torch.Size([1, 11, 6656])\n",
      "\n"
     ]
    }
   ],
   "source": [
    "for r in result['data']:\n",
    "    print(\"txt = \", r['generated_text'])\n",
    "    print(\"input_tokenized = \", r['input_tokenized'])\n",
    "    print(\"answer = \", r['answer'])\n",
    "    print('generated_tokens = ', r['generated_tokens'])\n",
    "    print(\"activations\")\n",
    "    for layer in r['activations']:\n",
    "        print(f\"     {layer} : {torch.tensor(r['activations'][layer]).shape}\")\n",
    "\n",
    "    print()\n",
    "    "
   ]
  },
  {
   "cell_type": "code",
   "execution_count": null,
   "metadata": {},
   "outputs": [],
   "source": []
  }
 ],
 "metadata": {
  "kernelspec": {
   "display_name": "relation",
   "language": "python",
   "name": "python3"
  },
  "language_info": {
   "codemirror_mode": {
    "name": "ipython",
    "version": 3
   },
   "file_extension": ".py",
   "mimetype": "text/x-python",
   "name": "python",
   "nbconvert_exporter": "python",
   "pygments_lexer": "ipython3",
   "version": "3.10.8"
  },
  "orig_nbformat": 4
 },
 "nbformat": 4,
 "nbformat_minor": 2
}
